{
 "cells": [
  {
   "cell_type": "code",
   "execution_count": null,
   "id": "bb31ae60-2ae7-452c-8949-6eb6bba9e271",
   "metadata": {},
   "outputs": [],
   "source": [
    "#This is where I am going to fetchd data from API's "
   ]
  },
  {
   "cell_type": "code",
   "execution_count": null,
   "id": "fd3ff437-6dde-4974-abb8-26072f886dcc",
   "metadata": {},
   "outputs": [],
   "source": []
  }
 ],
 "metadata": {
  "kernelspec": {
   "display_name": "Python 3 (ipykernel)",
   "language": "python",
   "name": "python3"
  },
  "language_info": {
   "codemirror_mode": {
    "name": "ipython",
    "version": 3
   },
   "file_extension": ".py",
   "mimetype": "text/x-python",
   "name": "python",
   "nbconvert_exporter": "python",
   "pygments_lexer": "ipython3",
   "version": "3.8.18"
  }
 },
 "nbformat": 4,
 "nbformat_minor": 5
}
